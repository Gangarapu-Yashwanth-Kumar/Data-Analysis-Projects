{
 "cells": [
  {
   "cell_type": "code",
   "execution_count": 9,
   "id": "071fc761-279d-47fd-bc4d-9183e303d4de",
   "metadata": {},
   "outputs": [],
   "source": [
    "import pandas as pd\n",
    "\n",
    "data = { 'Name': ['Yashwanth Kumar','Raviteja Beri', 'Rahul Reddy'],\n",
    "         'Date': ['2000-09-06','2002-11-19','2002-02-02'],\n",
    "         'Address': ['Hyderabad, Telangana','EastGodavari,  Ap','Guntur, Ap'],\n",
    "         'Time': ['08:30:12','10:45:16','3:15:08'] }\n",
    "\n",
    "df=pd.DataFrame(data)"
   ]
  },
  {
   "cell_type": "code",
   "execution_count": 11,
   "id": "293044af-af07-4912-b328-51d65708d6f5",
   "metadata": {},
   "outputs": [
    {
     "data": {
      "text/html": [
       "<div>\n",
       "<style scoped>\n",
       "    .dataframe tbody tr th:only-of-type {\n",
       "        vertical-align: middle;\n",
       "    }\n",
       "\n",
       "    .dataframe tbody tr th {\n",
       "        vertical-align: top;\n",
       "    }\n",
       "\n",
       "    .dataframe thead th {\n",
       "        text-align: right;\n",
       "    }\n",
       "</style>\n",
       "<table border=\"1\" class=\"dataframe\">\n",
       "  <thead>\n",
       "    <tr style=\"text-align: right;\">\n",
       "      <th></th>\n",
       "      <th>Name</th>\n",
       "      <th>Date</th>\n",
       "      <th>Address</th>\n",
       "      <th>Time</th>\n",
       "    </tr>\n",
       "  </thead>\n",
       "  <tbody>\n",
       "    <tr>\n",
       "      <th>0</th>\n",
       "      <td>Yashwanth Kumar</td>\n",
       "      <td>2000-09-06</td>\n",
       "      <td>Hyderabad, Telangana</td>\n",
       "      <td>08:30:12</td>\n",
       "    </tr>\n",
       "    <tr>\n",
       "      <th>1</th>\n",
       "      <td>Raviteja Beri</td>\n",
       "      <td>2002-11-19</td>\n",
       "      <td>EastGodavari,  Ap</td>\n",
       "      <td>10:45:16</td>\n",
       "    </tr>\n",
       "    <tr>\n",
       "      <th>2</th>\n",
       "      <td>Rahul Reddy</td>\n",
       "      <td>2002-02-02</td>\n",
       "      <td>Guntur, Ap</td>\n",
       "      <td>3:15:08</td>\n",
       "    </tr>\n",
       "  </tbody>\n",
       "</table>\n",
       "</div>"
      ],
      "text/plain": [
       "              Name        Date               Address      Time\n",
       "0  Yashwanth Kumar  2000-09-06  Hyderabad, Telangana  08:30:12\n",
       "1    Raviteja Beri  2002-11-19     EastGodavari,  Ap  10:45:16\n",
       "2      Rahul Reddy  2002-02-02            Guntur, Ap   3:15:08"
      ]
     },
     "execution_count": 11,
     "metadata": {},
     "output_type": "execute_result"
    }
   ],
   "source": [
    "df"
   ]
  },
  {
   "cell_type": "code",
   "execution_count": 2,
   "id": "de223d1b-a7b2-4caf-bd7b-29f55c78112e",
   "metadata": {},
   "outputs": [
    {
     "name": "stdout",
     "output_type": "stream",
     "text": [
      "              Name       Date               Address      Time first_name  \\\n",
      "0  Yashwanth Kumar 2000-09-06  Hyderabad, Telangana  08:30:12  Yashwanth   \n",
      "1    Raviteja Beri 2002-11-19     EastGodavari,  Ap  10:45:16   Raviteja   \n",
      "2      Rahul Reddy 2002-02-02            Guntur, Ap   3:15:08      Rahul   \n",
      "\n",
      "  last_name           city      state  Year  Month  Day Hour Minute Seconds  \n",
      "0     Kumar     Hyderabad,  Telangana  2000      9    6   08     30      12  \n",
      "1      Beri  EastGodavari,         Ap  2002     11   19   10     45      16  \n",
      "2     Reddy        Guntur,         Ap  2002      2    2    3     15      08  \n"
     ]
    }
   ],
   "source": [
    "df[['first_name','last_name']]=df['Name'].str.split(' ', n=1, expand=True)\n",
    "df[['city','state']]=df['Address'].str.split(' ', n=1, expand=True)\n",
    "df['Date']=pd.to_datetime(df['Date'])\n",
    "df['Year']=df['Date'].dt.year\n",
    "df['Month']=df['Date'].dt.month\n",
    "df['Day']=df['Date'].dt.day\n",
    "\n",
    "df[['Hour','Minute','Seconds']]=df['Time'].str.split(':', expand=True)\n",
    "\n",
    "print(df)"
   ]
  },
  {
   "cell_type": "code",
   "execution_count": 3,
   "id": "747fba04-f3f0-4f4a-bce0-77e29c4c0ed9",
   "metadata": {},
   "outputs": [
    {
     "name": "stdout",
     "output_type": "stream",
     "text": [
      "  first_name last_name       Date  Year  Month  Day Hour Minute Seconds\n",
      "0  Yashwanth     Kumar 2000-09-06  2000      9    6   08     30      12\n",
      "1   Raviteja      Beri 2002-11-19  2002     11   19   10     45      16\n",
      "2      Rahul     Reddy 2002-02-02  2002      2    2    3     15      08\n"
     ]
    }
   ],
   "source": [
    "new_df=['first_name','last_name','Date','Year','Month','Day','Hour','Minute','Seconds']\n",
    "df=df[new_df]\n",
    "\n",
    "print(df)"
   ]
  },
  {
   "cell_type": "code",
   "execution_count": null,
   "id": "bd5c12d3-00de-4f06-bb5f-68c3c584f570",
   "metadata": {},
   "outputs": [],
   "source": []
  },
  {
   "cell_type": "code",
   "execution_count": null,
   "id": "d6b1c531-30c4-447f-895f-f88746784710",
   "metadata": {},
   "outputs": [],
   "source": []
  }
 ],
 "metadata": {
  "kernelspec": {
   "display_name": "Python 3 (ipykernel)",
   "language": "python",
   "name": "python3"
  },
  "language_info": {
   "codemirror_mode": {
    "name": "ipython",
    "version": 3
   },
   "file_extension": ".py",
   "mimetype": "text/x-python",
   "name": "python",
   "nbconvert_exporter": "python",
   "pygments_lexer": "ipython3",
   "version": "3.12.3"
  }
 },
 "nbformat": 4,
 "nbformat_minor": 5
}
